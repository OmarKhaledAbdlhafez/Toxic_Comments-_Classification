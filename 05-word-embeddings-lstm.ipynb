{
 "cells": [
  {
   "cell_type": "code",
   "execution_count": 1,
   "id": "12834ed0",
   "metadata": {
    "_cell_guid": "b1076dfc-b9ad-4769-8c92-a6c4dae69d19",
    "_uuid": "8f2839f25d086af736a60e9eeb907d3b93b6e0e5",
    "execution": {
     "iopub.execute_input": "2022-06-02T19:45:04.948531Z",
     "iopub.status.busy": "2022-06-02T19:45:04.947979Z",
     "iopub.status.idle": "2022-06-02T19:45:04.962247Z",
     "shell.execute_reply": "2022-06-02T19:45:04.961315Z"
    },
    "papermill": {
     "duration": 0.022714,
     "end_time": "2022-06-02T19:45:04.964766",
     "exception": false,
     "start_time": "2022-06-02T19:45:04.942052",
     "status": "completed"
    },
    "tags": []
   },
   "outputs": [
    {
     "name": "stdout",
     "output_type": "stream",
     "text": [
      "/kaggle/input/jigsaw-unintended-bias-in-toxicity-classification/sample_submission.csv\n",
      "/kaggle/input/jigsaw-unintended-bias-in-toxicity-classification/all_data.csv\n",
      "/kaggle/input/jigsaw-unintended-bias-in-toxicity-classification/test_public_expanded.csv\n",
      "/kaggle/input/jigsaw-unintended-bias-in-toxicity-classification/test_private_expanded.csv\n",
      "/kaggle/input/jigsaw-unintended-bias-in-toxicity-classification/toxicity_individual_annotations.csv\n",
      "/kaggle/input/jigsaw-unintended-bias-in-toxicity-classification/train.csv\n",
      "/kaggle/input/jigsaw-unintended-bias-in-toxicity-classification/identity_individual_annotations.csv\n",
      "/kaggle/input/jigsaw-unintended-bias-in-toxicity-classification/test.csv\n"
     ]
    }
   ],
   "source": [
    "# This Python 3 environment comes with many helpful analytics libraries installed\n",
    "# It is defined by the kaggle/python Docker image: https://github.com/kaggle/docker-python\n",
    "# For example, here's several helpful packages to load\n",
    "\n",
    "import numpy as np # linear algebra\n",
    "import pandas as pd # data processing, CSV file I/O (e.g. pd.read_csv)\n",
    "\n",
    "# Input data files are available in the read-only \"../input/\" directory\n",
    "# For example, running this (by clicking run or pressing Shift+Enter) will list all files under the input directory\n",
    "\n",
    "import os\n",
    "for dirname, _, filenames in os.walk('/kaggle/input'):\n",
    "    for filename in filenames:\n",
    "        print(os.path.join(dirname, filename))\n",
    "\n",
    "# You can write up to 20GB to the current directory (/kaggle/working/) that gets preserved as output when you create a version using \"Save & Run All\" \n",
    "# You can also write temporary files to /kaggle/temp/, but they won't be saved outside of the current session"
   ]
  },
  {
   "cell_type": "code",
   "execution_count": 2,
   "id": "ff9e04d9",
   "metadata": {
    "execution": {
     "iopub.execute_input": "2022-06-02T19:45:04.975477Z",
     "iopub.status.busy": "2022-06-02T19:45:04.974530Z",
     "iopub.status.idle": "2022-06-02T19:45:32.877534Z",
     "shell.execute_reply": "2022-06-02T19:45:32.876508Z"
    },
    "papermill": {
     "duration": 27.909904,
     "end_time": "2022-06-02T19:45:32.880417",
     "exception": false,
     "start_time": "2022-06-02T19:45:04.970513",
     "status": "completed"
    },
    "tags": []
   },
   "outputs": [],
   "source": [
    "import numpy as np # linear algebra\n",
    "import pandas as pd\n",
    "train =pd.read_csv('/kaggle/input/jigsaw-unintended-bias-in-toxicity-classification/train.csv')\n",
    "#test = pd.read_csv('/kaggle/input/jigsaw-unintended-bias-in-toxicity-classification/test.csv')\n",
    "#df_test = test['comment_text']\n",
    "df = train[['target','comment_text']]"
   ]
  },
  {
   "cell_type": "code",
   "execution_count": 3,
   "id": "3ce5ec57",
   "metadata": {
    "execution": {
     "iopub.execute_input": "2022-06-02T19:45:32.888394Z",
     "iopub.status.busy": "2022-06-02T19:45:32.887991Z",
     "iopub.status.idle": "2022-06-02T19:45:34.893265Z",
     "shell.execute_reply": "2022-06-02T19:45:34.892298Z"
    },
    "papermill": {
     "duration": 2.012225,
     "end_time": "2022-06-02T19:45:34.895886",
     "exception": false,
     "start_time": "2022-06-02T19:45:32.883661",
     "status": "completed"
    },
    "tags": []
   },
   "outputs": [],
   "source": [
    "from imblearn.under_sampling import RandomUnderSampler\n",
    "X = df['comment_text']\n",
    "X = X.values.reshape(-1,1)\n",
    "y = df['target']\n",
    "y = np.where(y>=0.5,1.,0.)\n",
    "undersample = RandomUnderSampler(sampling_strategy='majority')\n",
    "X_sample, y_sample = undersample.fit_resample(X, y)"
   ]
  },
  {
   "cell_type": "code",
   "execution_count": 4,
   "id": "268925bb",
   "metadata": {
    "execution": {
     "iopub.execute_input": "2022-06-02T19:45:34.904077Z",
     "iopub.status.busy": "2022-06-02T19:45:34.903703Z",
     "iopub.status.idle": "2022-06-02T19:45:34.949866Z",
     "shell.execute_reply": "2022-06-02T19:45:34.948905Z"
    },
    "papermill": {
     "duration": 0.053097,
     "end_time": "2022-06-02T19:45:34.952525",
     "exception": false,
     "start_time": "2022-06-02T19:45:34.899428",
     "status": "completed"
    },
    "tags": []
   },
   "outputs": [],
   "source": [
    "from sklearn.model_selection import train_test_split\n",
    "x_train, x_test, y_train, y_test = train_test_split(X_sample.reshape(-1), y_sample, \n",
    "                                                    test_size=0.3, random_state=42)"
   ]
  },
  {
   "cell_type": "code",
   "execution_count": 5,
   "id": "50c44fe4",
   "metadata": {
    "execution": {
     "iopub.execute_input": "2022-06-02T19:45:34.960811Z",
     "iopub.status.busy": "2022-06-02T19:45:34.960445Z",
     "iopub.status.idle": "2022-06-02T19:46:06.177823Z",
     "shell.execute_reply": "2022-06-02T19:46:06.177075Z"
    },
    "papermill": {
     "duration": 31.224533,
     "end_time": "2022-06-02T19:46:06.180502",
     "exception": false,
     "start_time": "2022-06-02T19:45:34.955969",
     "status": "completed"
    },
    "tags": []
   },
   "outputs": [],
   "source": [
    "from keras.preprocessing.text import text_to_word_sequence\n",
    "from keras.preprocessing.text import Tokenizer  \n",
    "from keras.preprocessing.sequence import pad_sequences\n",
    "vocab_sz = 10000\n",
    "maxlen=311\n",
    "tok = Tokenizer(num_words=vocab_sz, oov_token='UNK')\n",
    "tok.fit_on_texts(X_sample.reshape(-1))\n",
    "x_train = tok.texts_to_sequences(x_train)\n",
    "x_test = tok.texts_to_sequences(x_test )\n",
    "x_train = pad_sequences(x_train, maxlen=maxlen)\n",
    "x_test = pad_sequences(x_test, maxlen=maxlen)"
   ]
  },
  {
   "cell_type": "code",
   "execution_count": 6,
   "id": "18dbba78",
   "metadata": {
    "execution": {
     "iopub.execute_input": "2022-06-02T19:46:06.189634Z",
     "iopub.status.busy": "2022-06-02T19:46:06.189007Z",
     "iopub.status.idle": "2022-06-02T19:46:06.572431Z",
     "shell.execute_reply": "2022-06-02T19:46:06.571750Z"
    },
    "papermill": {
     "duration": 0.390589,
     "end_time": "2022-06-02T19:46:06.575007",
     "exception": false,
     "start_time": "2022-06-02T19:46:06.184418",
     "status": "completed"
    },
    "tags": []
   },
   "outputs": [
    {
     "name": "stderr",
     "output_type": "stream",
     "text": [
      "2022-06-02 19:46:06.226744: I tensorflow/core/common_runtime/process_util.cc:146] Creating new thread pool with default inter op setting: 2. Tune using inter_op_parallelism_threads for best performance.\n"
     ]
    },
    {
     "name": "stdout",
     "output_type": "stream",
     "text": [
      "Model: \"sequential\"\n",
      "_________________________________________________________________\n",
      "Layer (type)                 Output Shape              Param #   \n",
      "=================================================================\n",
      "embedding (Embedding)        (None, 311, 50)           500050    \n",
      "_________________________________________________________________\n",
      "lstm (LSTM)                  (None, 64)                29440     \n",
      "_________________________________________________________________\n",
      "dense (Dense)                (None, 1)                 65        \n",
      "=================================================================\n",
      "Total params: 529,555\n",
      "Trainable params: 529,555\n",
      "Non-trainable params: 0\n",
      "_________________________________________________________________\n"
     ]
    }
   ],
   "source": [
    "from keras.models import Sequential\n",
    "from keras.layers import LSTM, Bidirectional, GRU, Dropout,Embedding ,Dense\n",
    "model = Sequential()\n",
    "model.add(Embedding(vocab_sz+1, 50, input_length=maxlen))\n",
    "model.add(LSTM(64))\n",
    "model.add(Dense(1, activation='sigmoid'))\n",
    "model.summary()"
   ]
  },
  {
   "cell_type": "code",
   "execution_count": 7,
   "id": "acb1f58c",
   "metadata": {
    "execution": {
     "iopub.execute_input": "2022-06-02T19:46:06.583743Z",
     "iopub.status.busy": "2022-06-02T19:46:06.583141Z",
     "iopub.status.idle": "2022-06-02T20:41:30.606533Z",
     "shell.execute_reply": "2022-06-02T20:41:30.604971Z"
    },
    "papermill": {
     "duration": 3324.522995,
     "end_time": "2022-06-02T20:41:31.101537",
     "exception": false,
     "start_time": "2022-06-02T19:46:06.578542",
     "status": "completed"
    },
    "tags": []
   },
   "outputs": [
    {
     "name": "stderr",
     "output_type": "stream",
     "text": [
      "2022-06-02 19:46:06.871032: I tensorflow/compiler/mlir/mlir_graph_optimization_pass.cc:185] None of the MLIR Optimization Passes are enabled (registered 2)\n"
     ]
    },
    {
     "name": "stdout",
     "output_type": "stream",
     "text": [
      "Epoch 1/3\n",
      "3158/3158 [==============================] - 1100s 348ms/step - loss: 0.3530 - accuracy: 0.8484 - val_loss: 0.3010 - val_accuracy: 0.8759\n",
      "Epoch 2/3\n",
      "3158/3158 [==============================] - 1110s 352ms/step - loss: 0.2876 - accuracy: 0.8812 - val_loss: 0.2943 - val_accuracy: 0.8787\n",
      "Epoch 3/3\n",
      "3158/3158 [==============================] - 1076s 341ms/step - loss: 0.2694 - accuracy: 0.8881 - val_loss: 0.2964 - val_accuracy: 0.8781\n"
     ]
    },
    {
     "data": {
      "text/plain": [
       "<keras.callbacks.History at 0x7f85590877d0>"
      ]
     },
     "execution_count": 7,
     "metadata": {},
     "output_type": "execute_result"
    }
   ],
   "source": [
    "model.compile(loss='binary_crossentropy',optimizer='adam',metrics=['accuracy'])\n",
    "model.fit(x_train, y_train,batch_size=64, epochs=3,validation_data=(x_test, y_test))"
   ]
  },
  {
   "cell_type": "code",
   "execution_count": 8,
   "id": "7fdbeb39",
   "metadata": {
    "execution": {
     "iopub.execute_input": "2022-06-02T20:41:32.144717Z",
     "iopub.status.busy": "2022-06-02T20:41:32.144043Z",
     "iopub.status.idle": "2022-06-02T20:44:49.235938Z",
     "shell.execute_reply": "2022-06-02T20:44:49.235134Z"
    },
    "papermill": {
     "duration": 197.574068,
     "end_time": "2022-06-02T20:44:49.237964",
     "exception": false,
     "start_time": "2022-06-02T20:41:31.663896",
     "status": "completed"
    },
    "tags": []
   },
   "outputs": [
    {
     "name": "stdout",
     "output_type": "stream",
     "text": [
      "2707/2707 [==============================] - 197s 73ms/step - loss: 0.2964 - accuracy: 0.8781\n"
     ]
    },
    {
     "data": {
      "text/plain": [
       "[0.2963508069515228, 0.878119170665741]"
      ]
     },
     "execution_count": 8,
     "metadata": {},
     "output_type": "execute_result"
    }
   ],
   "source": [
    "model.evaluate(x_test, y_test)"
   ]
  },
  {
   "cell_type": "code",
   "execution_count": 9,
   "id": "f595e55f",
   "metadata": {
    "execution": {
     "iopub.execute_input": "2022-06-02T20:44:50.515219Z",
     "iopub.status.busy": "2022-06-02T20:44:50.514536Z",
     "iopub.status.idle": "2022-06-02T20:44:51.659491Z",
     "shell.execute_reply": "2022-06-02T20:44:51.658397Z"
    },
    "papermill": {
     "duration": 1.751309,
     "end_time": "2022-06-02T20:44:51.661532",
     "exception": false,
     "start_time": "2022-06-02T20:44:49.910223",
     "status": "completed"
    },
    "tags": []
   },
   "outputs": [
    {
     "data": {
      "text/plain": [
       "0    [ Integrity means that you pay your debts.]\\n\\...\n",
       "1    This is malfeasance by the Administrator and t...\n",
       "2    @Rmiller101 - Spoken like a true elitist. But ...\n",
       "3    Paul: Thank you for your kind words.  I do, in...\n",
       "4    Sorry you missed high school. Eisenhower sent ...\n",
       "Name: comment_text, dtype: object"
      ]
     },
     "execution_count": 9,
     "metadata": {},
     "output_type": "execute_result"
    }
   ],
   "source": [
    "test_df= pd.read_csv('/kaggle/input/jigsaw-unintended-bias-in-toxicity-classification/test.csv')\n",
    "test_df= test_df['comment_text']\n",
    "test_df.head()"
   ]
  },
  {
   "cell_type": "code",
   "execution_count": 10,
   "id": "73edfaa1",
   "metadata": {
    "execution": {
     "iopub.execute_input": "2022-06-02T20:44:53.005302Z",
     "iopub.status.busy": "2022-06-02T20:44:53.004335Z",
     "iopub.status.idle": "2022-06-02T20:44:57.426374Z",
     "shell.execute_reply": "2022-06-02T20:44:57.425529Z"
    },
    "papermill": {
     "duration": 5.087806,
     "end_time": "2022-06-02T20:44:57.428704",
     "exception": false,
     "start_time": "2022-06-02T20:44:52.340898",
     "status": "completed"
    },
    "tags": []
   },
   "outputs": [],
   "source": [
    "xt = tok.texts_to_sequences(test_df)\n",
    "xt = pad_sequences(xt, maxlen=maxlen)"
   ]
  },
  {
   "cell_type": "code",
   "execution_count": 11,
   "id": "9c9b3a7d",
   "metadata": {
    "execution": {
     "iopub.execute_input": "2022-06-02T20:44:58.765322Z",
     "iopub.status.busy": "2022-06-02T20:44:58.764794Z",
     "iopub.status.idle": "2022-06-02T20:48:25.749022Z",
     "shell.execute_reply": "2022-06-02T20:48:25.747826Z"
    },
    "papermill": {
     "duration": 207.645481,
     "end_time": "2022-06-02T20:48:25.751371",
     "exception": false,
     "start_time": "2022-06-02T20:44:58.105890",
     "status": "completed"
    },
    "tags": []
   },
   "outputs": [],
   "source": [
    "y_pred= model.predict(xt)\n",
    "y_pred = np.where(y_pred>=0.5,1.,0.)\n",
    "sub_df = pd.read_csv('/kaggle/input/jigsaw-unintended-bias-in-toxicity-classification/sample_submission.csv')\n",
    "sub_df['prediction'] = y_pred\n",
    "sub_df.to_csv('submission.csv',index = False)"
   ]
  }
 ],
 "metadata": {
  "kernelspec": {
   "display_name": "Python 3",
   "language": "python",
   "name": "python3"
  },
  "language_info": {
   "codemirror_mode": {
    "name": "ipython",
    "version": 3
   },
   "file_extension": ".py",
   "mimetype": "text/x-python",
   "name": "python",
   "nbconvert_exporter": "python",
   "pygments_lexer": "ipython3",
   "version": "3.7.12"
  },
  "papermill": {
   "default_parameters": {},
   "duration": 3812.886163,
   "end_time": "2022-06-02T20:48:29.177299",
   "environment_variables": {},
   "exception": null,
   "input_path": "__notebook__.ipynb",
   "output_path": "__notebook__.ipynb",
   "parameters": {},
   "start_time": "2022-06-02T19:44:56.291136",
   "version": "2.3.4"
  }
 },
 "nbformat": 4,
 "nbformat_minor": 5
}
